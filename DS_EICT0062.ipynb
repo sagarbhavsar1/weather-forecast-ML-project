{
 "cells": [
  {
   "cell_type": "code",
   "execution_count": 1,
   "metadata": {},
   "outputs": [],
   "source": [
    "#Sagar Bhavsar\n",
    "# hackathon iD- DS_EICT0062"
   ]
  },
  {
   "cell_type": "code",
   "execution_count": 2,
   "metadata": {},
   "outputs": [],
   "source": [
    "#weather forecasting program\n"
   ]
  },
  {
   "cell_type": "markdown",
   "metadata": {},
   "source": [
    "<h1>IMPORTING NECESSARY PYTHON LIBRARIES</h1>"
   ]
  },
  {
   "cell_type": "code",
   "execution_count": 3,
   "metadata": {},
   "outputs": [],
   "source": [
    "\n",
    "import numpy as np # linear algebra\n",
    "import pandas as pd # data processing, CSV file I/O (e.g. pd.read_csv)\n",
    "import csv\n",
    "import os\n",
    "import pandas as pd\n",
    "from io import StringIO\n",
    "import io\n",
    "import string\n",
    "import numpy as np \n",
    "import pandas as pd\n",
    "import matplotlib.pyplot as plt\n",
    "%matplotlib inline\n",
    "import seaborn as sns\n",
    "import datetime\n"
   ]
  },
  {
   "cell_type": "code",
   "execution_count": 4,
   "metadata": {},
   "outputs": [],
   "source": [
    "#reading the csv file into this jupiter notebook\n",
    "\n",
    "df=pd.read_csv(r\"C:\\Users\\Sagar Bhavsar\\Downloads\\evaluate.csv\")"
   ]
  },
  {
   "cell_type": "code",
   "execution_count": 5,
   "metadata": {},
   "outputs": [
    {
     "data": {
      "text/html": [
       "<div>\n",
       "<style scoped>\n",
       "    .dataframe tbody tr th:only-of-type {\n",
       "        vertical-align: middle;\n",
       "    }\n",
       "\n",
       "    .dataframe tbody tr th {\n",
       "        vertical-align: top;\n",
       "    }\n",
       "\n",
       "    .dataframe thead th {\n",
       "        text-align: right;\n",
       "    }\n",
       "</style>\n",
       "<table border=\"1\" class=\"dataframe\">\n",
       "  <thead>\n",
       "    <tr style=\"text-align: right;\">\n",
       "      <th></th>\n",
       "      <th>Formatted Date</th>\n",
       "      <th>Summary</th>\n",
       "      <th>Precip Type</th>\n",
       "      <th>Temperature (C)</th>\n",
       "      <th>Apparent Temperature (C)</th>\n",
       "      <th>Humidity</th>\n",
       "      <th>Wind Speed (km/h)</th>\n",
       "      <th>Wind Bearing (degrees)</th>\n",
       "      <th>Visibility (km)</th>\n",
       "      <th>Cloud Cover</th>\n",
       "      <th>Pressure (millibars)</th>\n",
       "    </tr>\n",
       "  </thead>\n",
       "  <tbody>\n",
       "    <tr>\n",
       "      <th>0</th>\n",
       "      <td>2015-03-01 00:00:00.000 +0100</td>\n",
       "      <td>Partly Cloudy</td>\n",
       "      <td>rain</td>\n",
       "      <td>15.49444</td>\n",
       "      <td>15.49444</td>\n",
       "      <td>0.78</td>\n",
       "      <td>6.4239</td>\n",
       "      <td>182</td>\n",
       "      <td>16.1000</td>\n",
       "      <td>0</td>\n",
       "      <td>1013.50</td>\n",
       "    </tr>\n",
       "    <tr>\n",
       "      <th>1</th>\n",
       "      <td>2015-03-01 01:00:00.000 +0100</td>\n",
       "      <td>Partly Cloudy</td>\n",
       "      <td>rain</td>\n",
       "      <td>15.37778</td>\n",
       "      <td>15.37778</td>\n",
       "      <td>0.81</td>\n",
       "      <td>3.4293</td>\n",
       "      <td>201</td>\n",
       "      <td>16.1000</td>\n",
       "      <td>0</td>\n",
       "      <td>1013.70</td>\n",
       "    </tr>\n",
       "    <tr>\n",
       "      <th>2</th>\n",
       "      <td>2015-03-01 02:00:00.000 +0100</td>\n",
       "      <td>Partly Cloudy</td>\n",
       "      <td>rain</td>\n",
       "      <td>15.78333</td>\n",
       "      <td>15.78333</td>\n",
       "      <td>0.80</td>\n",
       "      <td>5.5867</td>\n",
       "      <td>174</td>\n",
       "      <td>15.1823</td>\n",
       "      <td>0</td>\n",
       "      <td>1013.73</td>\n",
       "    </tr>\n",
       "    <tr>\n",
       "      <th>3</th>\n",
       "      <td>2015-03-01 03:00:00.000 +0100</td>\n",
       "      <td>Partly Cloudy</td>\n",
       "      <td>rain</td>\n",
       "      <td>14.70556</td>\n",
       "      <td>14.70556</td>\n",
       "      <td>0.84</td>\n",
       "      <td>6.5044</td>\n",
       "      <td>219</td>\n",
       "      <td>16.1000</td>\n",
       "      <td>0</td>\n",
       "      <td>1013.90</td>\n",
       "    </tr>\n",
       "    <tr>\n",
       "      <th>4</th>\n",
       "      <td>2015-03-01 04:00:00.000 +0100</td>\n",
       "      <td>Partly Cloudy</td>\n",
       "      <td>rain</td>\n",
       "      <td>14.68333</td>\n",
       "      <td>14.68333</td>\n",
       "      <td>0.83</td>\n",
       "      <td>3.2200</td>\n",
       "      <td>190</td>\n",
       "      <td>16.1000</td>\n",
       "      <td>0</td>\n",
       "      <td>1013.72</td>\n",
       "    </tr>\n",
       "    <tr>\n",
       "      <th>...</th>\n",
       "      <td>...</td>\n",
       "      <td>...</td>\n",
       "      <td>...</td>\n",
       "      <td>...</td>\n",
       "      <td>...</td>\n",
       "      <td>...</td>\n",
       "      <td>...</td>\n",
       "      <td>...</td>\n",
       "      <td>...</td>\n",
       "      <td>...</td>\n",
       "      <td>...</td>\n",
       "    </tr>\n",
       "    <tr>\n",
       "      <th>714</th>\n",
       "      <td>2015-03-08 19:00:00.000 +0100</td>\n",
       "      <td>Mostly Cloudy</td>\n",
       "      <td>rain</td>\n",
       "      <td>25.02222</td>\n",
       "      <td>25.02222</td>\n",
       "      <td>0.41</td>\n",
       "      <td>4.7817</td>\n",
       "      <td>179</td>\n",
       "      <td>16.1000</td>\n",
       "      <td>0</td>\n",
       "      <td>1010.41</td>\n",
       "    </tr>\n",
       "    <tr>\n",
       "      <th>715</th>\n",
       "      <td>2015-03-08 20:00:00.000 +0100</td>\n",
       "      <td>Mostly Cloudy</td>\n",
       "      <td>rain</td>\n",
       "      <td>23.86111</td>\n",
       "      <td>23.86111</td>\n",
       "      <td>0.45</td>\n",
       "      <td>3.4454</td>\n",
       "      <td>180</td>\n",
       "      <td>16.1000</td>\n",
       "      <td>0</td>\n",
       "      <td>1010.80</td>\n",
       "    </tr>\n",
       "    <tr>\n",
       "      <th>716</th>\n",
       "      <td>2015-03-08 21:00:00.000 +0100</td>\n",
       "      <td>Mostly Cloudy</td>\n",
       "      <td>rain</td>\n",
       "      <td>21.42778</td>\n",
       "      <td>21.42778</td>\n",
       "      <td>0.53</td>\n",
       "      <td>3.9123</td>\n",
       "      <td>48</td>\n",
       "      <td>15.5526</td>\n",
       "      <td>0</td>\n",
       "      <td>1011.11</td>\n",
       "    </tr>\n",
       "    <tr>\n",
       "      <th>717</th>\n",
       "      <td>2015-03-08 22:00:00.000 +0100</td>\n",
       "      <td>Mostly Cloudy</td>\n",
       "      <td>rain</td>\n",
       "      <td>18.83889</td>\n",
       "      <td>18.83889</td>\n",
       "      <td>0.73</td>\n",
       "      <td>0.0000</td>\n",
       "      <td>0</td>\n",
       "      <td>16.1000</td>\n",
       "      <td>0</td>\n",
       "      <td>1011.42</td>\n",
       "    </tr>\n",
       "    <tr>\n",
       "      <th>718</th>\n",
       "      <td>2015-03-08 23:00:00.000 +0100</td>\n",
       "      <td>Mostly Cloudy</td>\n",
       "      <td>rain</td>\n",
       "      <td>17.20000</td>\n",
       "      <td>17.20000</td>\n",
       "      <td>0.81</td>\n",
       "      <td>0.0000</td>\n",
       "      <td>0</td>\n",
       "      <td>16.1000</td>\n",
       "      <td>0</td>\n",
       "      <td>1011.72</td>\n",
       "    </tr>\n",
       "  </tbody>\n",
       "</table>\n",
       "<p>719 rows × 11 columns</p>\n",
       "</div>"
      ],
      "text/plain": [
       "                    Formatted Date        Summary Precip Type  \\\n",
       "0    2015-03-01 00:00:00.000 +0100  Partly Cloudy        rain   \n",
       "1    2015-03-01 01:00:00.000 +0100  Partly Cloudy        rain   \n",
       "2    2015-03-01 02:00:00.000 +0100  Partly Cloudy        rain   \n",
       "3    2015-03-01 03:00:00.000 +0100  Partly Cloudy        rain   \n",
       "4    2015-03-01 04:00:00.000 +0100  Partly Cloudy        rain   \n",
       "..                             ...            ...         ...   \n",
       "714  2015-03-08 19:00:00.000 +0100  Mostly Cloudy        rain   \n",
       "715  2015-03-08 20:00:00.000 +0100  Mostly Cloudy        rain   \n",
       "716  2015-03-08 21:00:00.000 +0100  Mostly Cloudy        rain   \n",
       "717  2015-03-08 22:00:00.000 +0100  Mostly Cloudy        rain   \n",
       "718  2015-03-08 23:00:00.000 +0100  Mostly Cloudy        rain   \n",
       "\n",
       "     Temperature (C)  Apparent Temperature (C)  Humidity  Wind Speed (km/h)  \\\n",
       "0           15.49444                  15.49444      0.78             6.4239   \n",
       "1           15.37778                  15.37778      0.81             3.4293   \n",
       "2           15.78333                  15.78333      0.80             5.5867   \n",
       "3           14.70556                  14.70556      0.84             6.5044   \n",
       "4           14.68333                  14.68333      0.83             3.2200   \n",
       "..               ...                       ...       ...                ...   \n",
       "714         25.02222                  25.02222      0.41             4.7817   \n",
       "715         23.86111                  23.86111      0.45             3.4454   \n",
       "716         21.42778                  21.42778      0.53             3.9123   \n",
       "717         18.83889                  18.83889      0.73             0.0000   \n",
       "718         17.20000                  17.20000      0.81             0.0000   \n",
       "\n",
       "     Wind Bearing (degrees)  Visibility (km)  Cloud Cover  \\\n",
       "0                       182          16.1000            0   \n",
       "1                       201          16.1000            0   \n",
       "2                       174          15.1823            0   \n",
       "3                       219          16.1000            0   \n",
       "4                       190          16.1000            0   \n",
       "..                      ...              ...          ...   \n",
       "714                     179          16.1000            0   \n",
       "715                     180          16.1000            0   \n",
       "716                      48          15.5526            0   \n",
       "717                       0          16.1000            0   \n",
       "718                       0          16.1000            0   \n",
       "\n",
       "     Pressure (millibars)  \n",
       "0                 1013.50  \n",
       "1                 1013.70  \n",
       "2                 1013.73  \n",
       "3                 1013.90  \n",
       "4                 1013.72  \n",
       "..                    ...  \n",
       "714               1010.41  \n",
       "715               1010.80  \n",
       "716               1011.11  \n",
       "717               1011.42  \n",
       "718               1011.72  \n",
       "\n",
       "[719 rows x 11 columns]"
      ]
     },
     "execution_count": 5,
     "metadata": {},
     "output_type": "execute_result"
    }
   ],
   "source": [
    "df\n"
   ]
  },
  {
   "cell_type": "code",
   "execution_count": 6,
   "metadata": {},
   "outputs": [
    {
     "name": "stdout",
     "output_type": "stream",
     "text": [
      "<class 'pandas.core.frame.DataFrame'>\n",
      "RangeIndex: 719 entries, 0 to 718\n",
      "Data columns (total 11 columns):\n",
      " #   Column                    Non-Null Count  Dtype  \n",
      "---  ------                    --------------  -----  \n",
      " 0   Formatted Date            719 non-null    object \n",
      " 1   Summary                   719 non-null    object \n",
      " 2   Precip Type               719 non-null    object \n",
      " 3   Temperature (C)           719 non-null    float64\n",
      " 4   Apparent Temperature (C)  719 non-null    float64\n",
      " 5   Humidity                  719 non-null    float64\n",
      " 6   Wind Speed (km/h)         719 non-null    float64\n",
      " 7   Wind Bearing (degrees)    719 non-null    int64  \n",
      " 8   Visibility (km)           719 non-null    float64\n",
      " 9   Cloud Cover               719 non-null    int64  \n",
      " 10  Pressure (millibars)      719 non-null    float64\n",
      "dtypes: float64(6), int64(2), object(3)\n",
      "memory usage: 61.9+ KB\n"
     ]
    }
   ],
   "source": [
    "df.info()"
   ]
  },
  {
   "cell_type": "markdown",
   "metadata": {},
   "source": [
    "<h1>EDA and pre-processing</h1>"
   ]
  },
  {
   "cell_type": "code",
   "execution_count": 7,
   "metadata": {},
   "outputs": [
    {
     "data": {
      "text/html": [
       "<div>\n",
       "<style scoped>\n",
       "    .dataframe tbody tr th:only-of-type {\n",
       "        vertical-align: middle;\n",
       "    }\n",
       "\n",
       "    .dataframe tbody tr th {\n",
       "        vertical-align: top;\n",
       "    }\n",
       "\n",
       "    .dataframe thead th {\n",
       "        text-align: right;\n",
       "    }\n",
       "</style>\n",
       "<table border=\"1\" class=\"dataframe\">\n",
       "  <thead>\n",
       "    <tr style=\"text-align: right;\">\n",
       "      <th></th>\n",
       "      <th>Formatted Date</th>\n",
       "      <th>Summary</th>\n",
       "      <th>Precip Type</th>\n",
       "      <th>Temperature (C)</th>\n",
       "      <th>Apparent Temperature (C)</th>\n",
       "      <th>Humidity</th>\n",
       "      <th>Wind Speed (km/h)</th>\n",
       "      <th>Wind Bearing (degrees)</th>\n",
       "      <th>Visibility (km)</th>\n",
       "      <th>Cloud Cover</th>\n",
       "      <th>Pressure (millibars)</th>\n",
       "      <th>Daily summary</th>\n",
       "    </tr>\n",
       "  </thead>\n",
       "  <tbody>\n",
       "    <tr>\n",
       "      <th>0</th>\n",
       "      <td>2015-03-01 00:00:00.000 +0100</td>\n",
       "      <td>Partly Cloudy</td>\n",
       "      <td>rain</td>\n",
       "      <td>15.49444</td>\n",
       "      <td>15.49444</td>\n",
       "      <td>0.78</td>\n",
       "      <td>6.4239</td>\n",
       "      <td>182</td>\n",
       "      <td>16.1000</td>\n",
       "      <td>0</td>\n",
       "      <td>1013.50</td>\n",
       "      <td>NaT</td>\n",
       "    </tr>\n",
       "    <tr>\n",
       "      <th>1</th>\n",
       "      <td>2015-03-01 01:00:00.000 +0100</td>\n",
       "      <td>Partly Cloudy</td>\n",
       "      <td>rain</td>\n",
       "      <td>15.37778</td>\n",
       "      <td>15.37778</td>\n",
       "      <td>0.81</td>\n",
       "      <td>3.4293</td>\n",
       "      <td>201</td>\n",
       "      <td>16.1000</td>\n",
       "      <td>0</td>\n",
       "      <td>1013.70</td>\n",
       "      <td>NaT</td>\n",
       "    </tr>\n",
       "    <tr>\n",
       "      <th>2</th>\n",
       "      <td>2015-03-01 02:00:00.000 +0100</td>\n",
       "      <td>Partly Cloudy</td>\n",
       "      <td>rain</td>\n",
       "      <td>15.78333</td>\n",
       "      <td>15.78333</td>\n",
       "      <td>0.80</td>\n",
       "      <td>5.5867</td>\n",
       "      <td>174</td>\n",
       "      <td>15.1823</td>\n",
       "      <td>0</td>\n",
       "      <td>1013.73</td>\n",
       "      <td>NaT</td>\n",
       "    </tr>\n",
       "    <tr>\n",
       "      <th>3</th>\n",
       "      <td>2015-03-01 03:00:00.000 +0100</td>\n",
       "      <td>Partly Cloudy</td>\n",
       "      <td>rain</td>\n",
       "      <td>14.70556</td>\n",
       "      <td>14.70556</td>\n",
       "      <td>0.84</td>\n",
       "      <td>6.5044</td>\n",
       "      <td>219</td>\n",
       "      <td>16.1000</td>\n",
       "      <td>0</td>\n",
       "      <td>1013.90</td>\n",
       "      <td>NaT</td>\n",
       "    </tr>\n",
       "    <tr>\n",
       "      <th>4</th>\n",
       "      <td>2015-03-01 04:00:00.000 +0100</td>\n",
       "      <td>Partly Cloudy</td>\n",
       "      <td>rain</td>\n",
       "      <td>14.68333</td>\n",
       "      <td>14.68333</td>\n",
       "      <td>0.83</td>\n",
       "      <td>3.2200</td>\n",
       "      <td>190</td>\n",
       "      <td>16.1000</td>\n",
       "      <td>0</td>\n",
       "      <td>1013.72</td>\n",
       "      <td>NaT</td>\n",
       "    </tr>\n",
       "    <tr>\n",
       "      <th>...</th>\n",
       "      <td>...</td>\n",
       "      <td>...</td>\n",
       "      <td>...</td>\n",
       "      <td>...</td>\n",
       "      <td>...</td>\n",
       "      <td>...</td>\n",
       "      <td>...</td>\n",
       "      <td>...</td>\n",
       "      <td>...</td>\n",
       "      <td>...</td>\n",
       "      <td>...</td>\n",
       "      <td>...</td>\n",
       "    </tr>\n",
       "    <tr>\n",
       "      <th>714</th>\n",
       "      <td>2015-03-08 19:00:00.000 +0100</td>\n",
       "      <td>Mostly Cloudy</td>\n",
       "      <td>rain</td>\n",
       "      <td>25.02222</td>\n",
       "      <td>25.02222</td>\n",
       "      <td>0.41</td>\n",
       "      <td>4.7817</td>\n",
       "      <td>179</td>\n",
       "      <td>16.1000</td>\n",
       "      <td>0</td>\n",
       "      <td>1010.41</td>\n",
       "      <td>NaT</td>\n",
       "    </tr>\n",
       "    <tr>\n",
       "      <th>715</th>\n",
       "      <td>2015-03-08 20:00:00.000 +0100</td>\n",
       "      <td>Mostly Cloudy</td>\n",
       "      <td>rain</td>\n",
       "      <td>23.86111</td>\n",
       "      <td>23.86111</td>\n",
       "      <td>0.45</td>\n",
       "      <td>3.4454</td>\n",
       "      <td>180</td>\n",
       "      <td>16.1000</td>\n",
       "      <td>0</td>\n",
       "      <td>1010.80</td>\n",
       "      <td>NaT</td>\n",
       "    </tr>\n",
       "    <tr>\n",
       "      <th>716</th>\n",
       "      <td>2015-03-08 21:00:00.000 +0100</td>\n",
       "      <td>Mostly Cloudy</td>\n",
       "      <td>rain</td>\n",
       "      <td>21.42778</td>\n",
       "      <td>21.42778</td>\n",
       "      <td>0.53</td>\n",
       "      <td>3.9123</td>\n",
       "      <td>48</td>\n",
       "      <td>15.5526</td>\n",
       "      <td>0</td>\n",
       "      <td>1011.11</td>\n",
       "      <td>NaT</td>\n",
       "    </tr>\n",
       "    <tr>\n",
       "      <th>717</th>\n",
       "      <td>2015-03-08 22:00:00.000 +0100</td>\n",
       "      <td>Mostly Cloudy</td>\n",
       "      <td>rain</td>\n",
       "      <td>18.83889</td>\n",
       "      <td>18.83889</td>\n",
       "      <td>0.73</td>\n",
       "      <td>0.0000</td>\n",
       "      <td>0</td>\n",
       "      <td>16.1000</td>\n",
       "      <td>0</td>\n",
       "      <td>1011.42</td>\n",
       "      <td>NaT</td>\n",
       "    </tr>\n",
       "    <tr>\n",
       "      <th>718</th>\n",
       "      <td>2015-03-08 23:00:00.000 +0100</td>\n",
       "      <td>Mostly Cloudy</td>\n",
       "      <td>rain</td>\n",
       "      <td>17.20000</td>\n",
       "      <td>17.20000</td>\n",
       "      <td>0.81</td>\n",
       "      <td>0.0000</td>\n",
       "      <td>0</td>\n",
       "      <td>16.1000</td>\n",
       "      <td>0</td>\n",
       "      <td>1011.72</td>\n",
       "      <td>NaT</td>\n",
       "    </tr>\n",
       "  </tbody>\n",
       "</table>\n",
       "<p>719 rows × 12 columns</p>\n",
       "</div>"
      ],
      "text/plain": [
       "                    Formatted Date        Summary Precip Type  \\\n",
       "0    2015-03-01 00:00:00.000 +0100  Partly Cloudy        rain   \n",
       "1    2015-03-01 01:00:00.000 +0100  Partly Cloudy        rain   \n",
       "2    2015-03-01 02:00:00.000 +0100  Partly Cloudy        rain   \n",
       "3    2015-03-01 03:00:00.000 +0100  Partly Cloudy        rain   \n",
       "4    2015-03-01 04:00:00.000 +0100  Partly Cloudy        rain   \n",
       "..                             ...            ...         ...   \n",
       "714  2015-03-08 19:00:00.000 +0100  Mostly Cloudy        rain   \n",
       "715  2015-03-08 20:00:00.000 +0100  Mostly Cloudy        rain   \n",
       "716  2015-03-08 21:00:00.000 +0100  Mostly Cloudy        rain   \n",
       "717  2015-03-08 22:00:00.000 +0100  Mostly Cloudy        rain   \n",
       "718  2015-03-08 23:00:00.000 +0100  Mostly Cloudy        rain   \n",
       "\n",
       "     Temperature (C)  Apparent Temperature (C)  Humidity  Wind Speed (km/h)  \\\n",
       "0           15.49444                  15.49444      0.78             6.4239   \n",
       "1           15.37778                  15.37778      0.81             3.4293   \n",
       "2           15.78333                  15.78333      0.80             5.5867   \n",
       "3           14.70556                  14.70556      0.84             6.5044   \n",
       "4           14.68333                  14.68333      0.83             3.2200   \n",
       "..               ...                       ...       ...                ...   \n",
       "714         25.02222                  25.02222      0.41             4.7817   \n",
       "715         23.86111                  23.86111      0.45             3.4454   \n",
       "716         21.42778                  21.42778      0.53             3.9123   \n",
       "717         18.83889                  18.83889      0.73             0.0000   \n",
       "718         17.20000                  17.20000      0.81             0.0000   \n",
       "\n",
       "     Wind Bearing (degrees)  Visibility (km)  Cloud Cover  \\\n",
       "0                       182          16.1000            0   \n",
       "1                       201          16.1000            0   \n",
       "2                       174          15.1823            0   \n",
       "3                       219          16.1000            0   \n",
       "4                       190          16.1000            0   \n",
       "..                      ...              ...          ...   \n",
       "714                     179          16.1000            0   \n",
       "715                     180          16.1000            0   \n",
       "716                      48          15.5526            0   \n",
       "717                       0          16.1000            0   \n",
       "718                       0          16.1000            0   \n",
       "\n",
       "     Pressure (millibars) Daily summary  \n",
       "0                 1013.50           NaT  \n",
       "1                 1013.70           NaT  \n",
       "2                 1013.73           NaT  \n",
       "3                 1013.90           NaT  \n",
       "4                 1013.72           NaT  \n",
       "..                    ...           ...  \n",
       "714               1010.41           NaT  \n",
       "715               1010.80           NaT  \n",
       "716               1011.11           NaT  \n",
       "717               1011.42           NaT  \n",
       "718               1011.72           NaT  \n",
       "\n",
       "[719 rows x 12 columns]"
      ]
     },
     "execution_count": 7,
     "metadata": {},
     "output_type": "execute_result"
    }
   ],
   "source": [
    "df[\"Daily summary\"] = pd.NaT\n",
    "df"
   ]
  },
  {
   "cell_type": "code",
   "execution_count": 8,
   "metadata": {},
   "outputs": [],
   "source": [
    "#daily summary will be target variable"
   ]
  },
  {
   "cell_type": "markdown",
   "metadata": {},
   "source": [
    "<h1>Exploratory Data Analysis (Includes Graphs and other necessary operations)</h1>"
   ]
  },
  {
   "cell_type": "code",
   "execution_count": 9,
   "metadata": {},
   "outputs": [],
   "source": [
    "#visualizing the data:\n",
    "\n",
    "\n",
    "# columns to be visualised: \n",
    "#Temperature (C),\n",
    "#Humidity\n",
    "#,Wind Speed (km/h)\t\n",
    "#Wind Bearing (degrees)\t\n",
    "#Visibility (km)\n",
    "#Pressure (millibars)"
   ]
  },
  {
   "cell_type": "code",
   "execution_count": 10,
   "metadata": {},
   "outputs": [
    {
     "data": {
      "text/plain": [
       "Text(0, 0.5, 'temp in C')"
      ]
     },
     "execution_count": 10,
     "metadata": {},
     "output_type": "execute_result"
    },
    {
     "data": {
      "image/png": "[encoded data removed]",
      "text/plain": [
       "<Figure size 720x432 with 1 Axes>"
      ]
     },
     "metadata": {
      "needs_background": "light"
     },
     "output_type": "display_data"
    }
   ],
   "source": [
    "# Set the width and height of the figure\n",
    "plt.figure(figsize=(10,6))\n",
    "\n",
    "# Add title\n",
    "plt.title(\"temperature report\")\n",
    "\n",
    "# Bar chart showing temperature report\n",
    "sns.barplot(x=df['Formatted Date'], y=df['Temperature (C)'])\n",
    "\n",
    "# Add label for vertical axis\n",
    "plt.ylabel(\"temp in C\")"
   ]
  },
  {
   "cell_type": "code",
   "execution_count": 11,
   "metadata": {},
   "outputs": [
    {
     "data": {
      "text/plain": [
       "Text(0, 0.5, 'Humidity')"
      ]
     },
     "execution_count": 11,
     "metadata": {},
     "output_type": "execute_result"
    },
    {
     "data": {
      "image/png": "[encoded data removed]",
      "text/plain": [
       "<Figure size 720x432 with 1 Axes>"
      ]
     },
     "metadata": {
      "needs_background": "light"
     },
     "output_type": "display_data"
    }
   ],
   "source": [
    "# Set the width and height of the figure\n",
    "plt.figure(figsize=(10,6))\n",
    "\n",
    "# Add title\n",
    "plt.title(\"Humidity report\")\n",
    "\n",
    "# Bar chart showing Humidity report\n",
    "sns.barplot(x=df['Formatted Date'], y=df['Humidity'])\n",
    "\n",
    "# Add label for vertical axis\n",
    "plt.ylabel(\"Humidity\")"
   ]
  },
  {
   "cell_type": "code",
   "execution_count": 12,
   "metadata": {},
   "outputs": [
    {
     "data": {
      "text/plain": [
       "Text(0, 0.5, 'Wind Speed (km/h)')"
      ]
     },
     "execution_count": 12,
     "metadata": {},
     "output_type": "execute_result"
    },
    {
     "data": {
      "image/png": "[encoded data removed]",
      "text/plain": [
       "<Figure size 720x432 with 1 Axes>"
      ]
     },
     "metadata": {
      "needs_background": "light"
     },
     "output_type": "display_data"
    }
   ],
   "source": [
    "# Set the width and height of the figure\n",
    "plt.figure(figsize=(10,6))\n",
    "\n",
    "# Add title\n",
    "plt.title(\"Wind Speed (km/h) report\")\n",
    "\n",
    "# Bar chart showing Wind Speed (km/h) report\n",
    "sns.barplot(x=df['Formatted Date'], y=df['Wind Speed (km/h)'])\n",
    "\n",
    "# Add label for vertical axis\n",
    "plt.ylabel(\"Wind Speed (km/h)\")"
   ]
  },
  {
   "cell_type": "code",
   "execution_count": 13,
   "metadata": {},
   "outputs": [
    {
     "data": {
      "text/plain": [
       "Text(0, 0.5, 'Wind Bearing (degrees)')"
      ]
     },
     "execution_count": 13,
     "metadata": {},
     "output_type": "execute_result"
    },
    {
     "data": {
      "image/png": "[encoded data removed]",
      "text/plain": [
       "<Figure size 720x432 with 1 Axes>"
      ]
     },
     "metadata": {
      "needs_background": "light"
     },
     "output_type": "display_data"
    }
   ],
   "source": [
    "# Set the width and height of the figure\n",
    "plt.figure(figsize=(10,6))\n",
    "\n",
    "# Add title\n",
    "plt.title(\"Wind Bearing (degrees)\")\n",
    "\n",
    "# Bar chart showing Wind Bearing (degrees) report\n",
    "sns.barplot(x=df['Formatted Date'], y=df['Wind Bearing (degrees)'])\n",
    "\n",
    "# Add label for vertical axis\n",
    "plt.ylabel(\"Wind Bearing (degrees)\")"
   ]
  },
  {
   "cell_type": "code",
   "execution_count": 14,
   "metadata": {},
   "outputs": [
    {
     "data": {
      "text/plain": [
       "Text(0, 0.5, 'Visibility (km)')"
      ]
     },
     "execution_count": 14,
     "metadata": {},
     "output_type": "execute_result"
    },
    {
     "data": {
      "image/png": "[encoded data removed]",
      "text/plain": [
       "<Figure size 720x432 with 1 Axes>"
      ]
     },
     "metadata": {
      "needs_background": "light"
     },
     "output_type": "display_data"
    }
   ],
   "source": [
    "# Set the width and height of the figure\n",
    "plt.figure(figsize=(10,6))\n",
    "\n",
    "# Add title\n",
    "plt.title(\"Visibility (km)\")\n",
    "\n",
    "# Bar chart showing Visibility (km) report\n",
    "sns.barplot(x=df['Formatted Date'], y=df['Visibility (km)'])\n",
    "\n",
    "# Add label for vertical axis\n",
    "plt.ylabel(\"Visibility (km)\")"
   ]
  },
  {
   "cell_type": "code",
   "execution_count": 15,
   "metadata": {},
   "outputs": [
    {
     "data": {
      "text/plain": [
       "Text(0, 0.5, 'Pressure (millibars)')"
      ]
     },
     "execution_count": 15,
     "metadata": {},
     "output_type": "execute_result"
    },
    {
     "data": {
      "image/png": "[encoded data removed]",
      "text/plain": [
       "<Figure size 720x432 with 1 Axes>"
      ]
     },
     "metadata": {
      "needs_background": "light"
     },
     "output_type": "display_data"
    }
   ],
   "source": [
    "# Set the width and height of the figure\n",
    "plt.figure(figsize=(10,6))\n",
    "\n",
    "# Add title\n",
    "plt.title(\"Pressure (millibars)\")\n",
    "\n",
    "# Bar chart showing Pressure (millibars) report\n",
    "sns.barplot(x=df['Formatted Date'], y=df['Pressure (millibars)'])\n",
    "\n",
    "# Add label for vertical axis\n",
    "plt.ylabel(\"Pressure (millibars)\")"
   ]
  },
  {
   "cell_type": "code",
   "execution_count": 16,
   "metadata": {},
   "outputs": [],
   "source": [
    "#visualization is done"
   ]
  },
  {
   "cell_type": "markdown",
   "metadata": {},
   "source": [
    "<h1>Data Augmentation and feature engineering</h1>"
   ]
  },
  {
   "cell_type": "code",
   "execution_count": 17,
   "metadata": {},
   "outputs": [
    {
     "data": {
      "text/plain": [
       "0      the Temperature is 15.494439999999999 and it f...\n",
       "1      the Temperature is 15.37778 and it feels like ...\n",
       "2      the Temperature is 15.78333 and it feels like ...\n",
       "3      the Temperature is 14.70556 and it feels like ...\n",
       "4      the Temperature is 14.683329999999998 and it f...\n",
       "                             ...                        \n",
       "714    the Temperature is 25.02222 and it feels like ...\n",
       "715    the Temperature is 23.86111 and it feels like ...\n",
       "716    the Temperature is 21.42778 and it feels like ...\n",
       "717    the Temperature is 18.83889 and it feels like ...\n",
       "718    the Temperature is 17.2 and it feels like 17.2...\n",
       "Name: Daily summary, Length: 719, dtype: object"
      ]
     },
     "execution_count": 17,
     "metadata": {},
     "output_type": "execute_result"
    }
   ],
   "source": [
    "\n",
    "\n",
    "df['Daily summary'] = [f'the Temperature is {a} and it feels like {b},humidity is {c},wind speed in (km/h) is {d},Visibility in km is{e} and pressure in mb is{f}' for a, b,c,d,e,f in zip(df[\"Temperature (C)\"],df[\"Apparent Temperature (C)\"],df[\"Humidity\"],df[\"Wind Speed (km/h)\"],df[\"Visibility (km)\"],df[\"Pressure (millibars)\"])]\n",
    "\n",
    "\n",
    "dfs=df['Daily summary']\n",
    "dfs\n",
    "\n",
    "\n"
   ]
  },
  {
   "cell_type": "code",
   "execution_count": 18,
   "metadata": {},
   "outputs": [],
   "source": [
    "#daily summary column is now added that gives the summary for the weather report of the date ."
   ]
  },
  {
   "cell_type": "code",
   "execution_count": null,
   "metadata": {},
   "outputs": [],
   "source": []
  }
 ],
 "metadata": {
  "kernelspec": {
   "display_name": "Python 3",
   "language": "python",
   "name": "python3"
  },
  "language_info": {
   "codemirror_mode": {
    "name": "ipython",
    "version": 3
   },
   "file_extension": ".py",
   "mimetype": "text/x-python",
   "name": "python",
   "nbconvert_exporter": "python",
   "pygments_lexer": "ipython3",
   "version": "3.8.3"
  }
 },
 "nbformat": 4,
 "nbformat_minor": 4
}
